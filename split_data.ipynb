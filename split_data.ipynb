{
 "cells": [
  {
   "cell_type": "code",
   "execution_count": 74,
   "id": "d673a9e3",
   "metadata": {},
   "outputs": [],
   "source": [
    "import os\n",
    "os.environ['CUDA_VISIBLE_DEVICES'] = '0'\n",
    "import glob\n",
    "\n",
    "import cv2\n",
    "import numpy as np\n",
    "import pandas as pd\n",
    "from matplotlib import pyplot as plt\n",
    "from sklearn.model_selection import train_test_split, StratifiedShuffleSplit"
   ]
  },
  {
   "cell_type": "code",
   "execution_count": 2,
   "id": "ffa42e7c",
   "metadata": {},
   "outputs": [],
   "source": [
    "DATASET_ROOT = '/home/raid_storage/datasets/rosatom'\n",
    "OUT_IMAGES_FOLDER = os.path.join(DATASET_ROOT, 'sam', 'images')\n",
    "OUT_MASKS_FOLDER = os.path.join(DATASET_ROOT, 'sam', 'masks')\n",
    "OUT_OVERLAPPED_FOLDER = os.path.join(DATASET_ROOT, 'sam', 'overlapped')\n",
    "\n",
    "CSV_PATH = os.path.join(DATASET_ROOT, 'full_dataset.csv')\n",
    "\n",
    "name2label = {\n",
    "    \"не дефект\": 0,\n",
    "    \"потертость\": 1,\n",
    "    \"черная точка\": 2,\n",
    "    \"плена\": 3,\n",
    "    \"маркер\": 4,\n",
    "    \"грязь\": 5,\n",
    "    \"накол\": 6,\n",
    "    \"н.д. накол\": 7,\n",
    "    \"микровыступ\": 8,\n",
    "    \"н.д. микровыступ\": 9,\n",
    "    \"вмятина\": 10,\n",
    "    \"мех.повреждение\": 11,\n",
    "    \"риска\": 12,\n",
    "    \"царапина с волчком\": 13\n",
    "}\n",
    "label2name = {v:k for k,v in name2label.items()}"
   ]
  },
  {
   "cell_type": "code",
   "execution_count": 31,
   "id": "4ff6ca86",
   "metadata": {},
   "outputs": [
    {
     "data": {
      "text/html": [
       "<div>\n",
       "<style scoped>\n",
       "    .dataframe tbody tr th:only-of-type {\n",
       "        vertical-align: middle;\n",
       "    }\n",
       "\n",
       "    .dataframe tbody tr th {\n",
       "        vertical-align: top;\n",
       "    }\n",
       "\n",
       "    .dataframe thead th {\n",
       "        text-align: right;\n",
       "    }\n",
       "</style>\n",
       "<table border=\"1\" class=\"dataframe\">\n",
       "  <thead>\n",
       "    <tr style=\"text-align: right;\">\n",
       "      <th></th>\n",
       "      <th>filename</th>\n",
       "      <th>x</th>\n",
       "      <th>y</th>\n",
       "      <th>class</th>\n",
       "    </tr>\n",
       "  </thead>\n",
       "  <tbody>\n",
       "    <tr>\n",
       "      <th>0</th>\n",
       "      <td>FRAMES/0/1538/frame0006.bmp</td>\n",
       "      <td>809</td>\n",
       "      <td>336</td>\n",
       "      <td>3</td>\n",
       "    </tr>\n",
       "    <tr>\n",
       "      <th>1</th>\n",
       "      <td>FRAMES/0/1538/frame0006.bmp</td>\n",
       "      <td>601</td>\n",
       "      <td>299</td>\n",
       "      <td>0</td>\n",
       "    </tr>\n",
       "    <tr>\n",
       "      <th>2</th>\n",
       "      <td>FRAMES/0/1538/frame0007.bmp</td>\n",
       "      <td>667</td>\n",
       "      <td>318</td>\n",
       "      <td>3</td>\n",
       "    </tr>\n",
       "    <tr>\n",
       "      <th>3</th>\n",
       "      <td>FRAMES/0/1538/frame0007.bmp</td>\n",
       "      <td>811</td>\n",
       "      <td>523</td>\n",
       "      <td>3</td>\n",
       "    </tr>\n",
       "    <tr>\n",
       "      <th>4</th>\n",
       "      <td>FRAMES/0/1538/frame0007.bmp</td>\n",
       "      <td>445</td>\n",
       "      <td>300</td>\n",
       "      <td>0</td>\n",
       "    </tr>\n",
       "    <tr>\n",
       "      <th>...</th>\n",
       "      <td>...</td>\n",
       "      <td>...</td>\n",
       "      <td>...</td>\n",
       "      <td>...</td>\n",
       "    </tr>\n",
       "    <tr>\n",
       "      <th>33572</th>\n",
       "      <td>FRAMES/2023.10.25/5_896.bmp</td>\n",
       "      <td>121</td>\n",
       "      <td>418</td>\n",
       "      <td>1</td>\n",
       "    </tr>\n",
       "    <tr>\n",
       "      <th>33573</th>\n",
       "      <td>FRAMES/2023.10.25/5_896.bmp</td>\n",
       "      <td>568</td>\n",
       "      <td>94</td>\n",
       "      <td>0</td>\n",
       "    </tr>\n",
       "    <tr>\n",
       "      <th>33574</th>\n",
       "      <td>FRAMES/2023.10.25/5_896.bmp</td>\n",
       "      <td>509</td>\n",
       "      <td>153</td>\n",
       "      <td>0</td>\n",
       "    </tr>\n",
       "    <tr>\n",
       "      <th>33575</th>\n",
       "      <td>FRAMES/2023.10.25/5_896.bmp</td>\n",
       "      <td>509</td>\n",
       "      <td>330</td>\n",
       "      <td>0</td>\n",
       "    </tr>\n",
       "    <tr>\n",
       "      <th>33576</th>\n",
       "      <td>FRAMES/2023.10.25/5_896.bmp</td>\n",
       "      <td>568</td>\n",
       "      <td>448</td>\n",
       "      <td>0</td>\n",
       "    </tr>\n",
       "  </tbody>\n",
       "</table>\n",
       "<p>33577 rows × 4 columns</p>\n",
       "</div>"
      ],
      "text/plain": [
       "                          filename    x    y  class\n",
       "0      FRAMES/0/1538/frame0006.bmp  809  336      3\n",
       "1      FRAMES/0/1538/frame0006.bmp  601  299      0\n",
       "2      FRAMES/0/1538/frame0007.bmp  667  318      3\n",
       "3      FRAMES/0/1538/frame0007.bmp  811  523      3\n",
       "4      FRAMES/0/1538/frame0007.bmp  445  300      0\n",
       "...                            ...  ...  ...    ...\n",
       "33572  FRAMES/2023.10.25/5_896.bmp  121  418      1\n",
       "33573  FRAMES/2023.10.25/5_896.bmp  568   94      0\n",
       "33574  FRAMES/2023.10.25/5_896.bmp  509  153      0\n",
       "33575  FRAMES/2023.10.25/5_896.bmp  509  330      0\n",
       "33576  FRAMES/2023.10.25/5_896.bmp  568  448      0\n",
       "\n",
       "[33577 rows x 4 columns]"
      ]
     },
     "execution_count": 31,
     "metadata": {},
     "output_type": "execute_result"
    }
   ],
   "source": [
    "df = pd.read_csv(CSV_PATH, index_col=0)\n",
    "df"
   ]
  },
  {
   "cell_type": "code",
   "execution_count": 58,
   "id": "c98a3aaf",
   "metadata": {},
   "outputs": [
    {
     "name": "stderr",
     "output_type": "stream",
     "text": [
      "100%|██████████| 4640/4640 [00:05<00:00, 784.59it/s]\n"
     ]
    }
   ],
   "source": [
    "df_cleared = df[df['class'] != 0]\n",
    "u_paths = df_cleared['filename'].unique()\n",
    "\n",
    "stratify_dict = {}\n",
    "stratify_list = []\n",
    "for u_path in tqdm(u_paths):\n",
    "    s_label = df_cleared[df_cleared['filename'] == u_path]['class'].values\n",
    "    s = s_label.tolist()\n",
    "    s.sort()\n",
    "    stratify_dict[u_path] = ''.join([str(x) for x in s])\n",
    "    stratify_list.append(' '.join([str(x) for x in s]))\n",
    "    \n",
    "df_str = pd.DataFrame({'filename': u_paths, 'stratify': stratify_list})"
   ]
  },
  {
   "cell_type": "code",
   "execution_count": 96,
   "id": "6723642a",
   "metadata": {},
   "outputs": [
    {
     "data": {
      "text/plain": [
       "(4540, 2)"
      ]
     },
     "execution_count": 96,
     "metadata": {},
     "output_type": "execute_result"
    }
   ],
   "source": [
    "counter_df = df_str.groupby('stratify').agg({'filename': 'count'})\n",
    "split_df = counter_df[counter_df['filename'] > 1]\n",
    "split_df = split_df.reset_index()\n",
    "\n",
    "\n",
    "to_split_df = df_str[df_str['stratify'].isin(split_df['stratify'].values)]\n",
    "to_split_df.shape"
   ]
  },
  {
   "cell_type": "code",
   "execution_count": 97,
   "id": "3a331caa",
   "metadata": {},
   "outputs": [
    {
     "data": {
      "text/plain": [
       "(100, 2)"
      ]
     },
     "execution_count": 97,
     "metadata": {},
     "output_type": "execute_result"
    }
   ],
   "source": [
    "split_df = counter_df[counter_df['filename'] == 1]\n",
    "split_df = split_df.reset_index()\n",
    "\n",
    "\n",
    "to_concat_df = df_str[df_str['stratify'].isin(split_df['stratify'].values)]\n",
    "to_concat_df.shape"
   ]
  },
  {
   "cell_type": "code",
   "execution_count": 98,
   "id": "bd4c22e8",
   "metadata": {},
   "outputs": [],
   "source": [
    "df_train, df_test = train_test_split(\n",
    "    to_split_df, \n",
    "    test_size=0.2, \n",
    "    random_state=17, \n",
    "    stratify=to_split_df['stratify'].values,\n",
    ")"
   ]
  },
  {
   "cell_type": "code",
   "execution_count": 107,
   "id": "6054545f",
   "metadata": {},
   "outputs": [
    {
     "data": {
      "text/plain": [
       "3732"
      ]
     },
     "execution_count": 107,
     "metadata": {},
     "output_type": "execute_result"
    }
   ],
   "source": [
    "path_train = df_train['filename'].values.tolist() + to_concat_df['filename'].values.tolist()\n",
    "len(path_train)"
   ]
  },
  {
   "cell_type": "code",
   "execution_count": 108,
   "id": "9f84d3d5",
   "metadata": {},
   "outputs": [
    {
     "data": {
      "text/plain": [
       "908"
      ]
     },
     "execution_count": 108,
     "metadata": {},
     "output_type": "execute_result"
    }
   ],
   "source": [
    "path_test = df_test['filename'].values.tolist() \n",
    "len(path_test)"
   ]
  },
  {
   "cell_type": "code",
   "execution_count": 109,
   "id": "28f03e2a",
   "metadata": {},
   "outputs": [
    {
     "data": {
      "text/plain": [
       "4640"
      ]
     },
     "execution_count": 109,
     "metadata": {},
     "output_type": "execute_result"
    }
   ],
   "source": [
    "len(path_train) + len(path_test)"
   ]
  },
  {
   "cell_type": "code",
   "execution_count": 110,
   "id": "698eadff",
   "metadata": {},
   "outputs": [
    {
     "name": "stderr",
     "output_type": "stream",
     "text": [
      "/tmp/ipykernel_2557/3970728979.py:1: SettingWithCopyWarning: \n",
      "A value is trying to be set on a copy of a slice from a DataFrame.\n",
      "Try using .loc[row_indexer,col_indexer] = value instead\n",
      "\n",
      "See the caveats in the documentation: https://pandas.pydata.org/pandas-docs/stable/user_guide/indexing.html#returning-a-view-versus-a-copy\n",
      "  df_cleared['stage'] = df_cleared['filename'].apply(lambda x: 'train' if x in path_train else 'test')\n"
     ]
    },
    {
     "data": {
      "text/html": [
       "<div>\n",
       "<style scoped>\n",
       "    .dataframe tbody tr th:only-of-type {\n",
       "        vertical-align: middle;\n",
       "    }\n",
       "\n",
       "    .dataframe tbody tr th {\n",
       "        vertical-align: top;\n",
       "    }\n",
       "\n",
       "    .dataframe thead th {\n",
       "        text-align: right;\n",
       "    }\n",
       "</style>\n",
       "<table border=\"1\" class=\"dataframe\">\n",
       "  <thead>\n",
       "    <tr style=\"text-align: right;\">\n",
       "      <th></th>\n",
       "      <th>filename</th>\n",
       "      <th>x</th>\n",
       "      <th>y</th>\n",
       "      <th>class</th>\n",
       "      <th>stage</th>\n",
       "    </tr>\n",
       "  </thead>\n",
       "  <tbody>\n",
       "    <tr>\n",
       "      <th>0</th>\n",
       "      <td>FRAMES/0/1538/frame0006.bmp</td>\n",
       "      <td>809</td>\n",
       "      <td>336</td>\n",
       "      <td>3</td>\n",
       "      <td>train</td>\n",
       "    </tr>\n",
       "    <tr>\n",
       "      <th>2</th>\n",
       "      <td>FRAMES/0/1538/frame0007.bmp</td>\n",
       "      <td>667</td>\n",
       "      <td>318</td>\n",
       "      <td>3</td>\n",
       "      <td>train</td>\n",
       "    </tr>\n",
       "    <tr>\n",
       "      <th>3</th>\n",
       "      <td>FRAMES/0/1538/frame0007.bmp</td>\n",
       "      <td>811</td>\n",
       "      <td>523</td>\n",
       "      <td>3</td>\n",
       "      <td>train</td>\n",
       "    </tr>\n",
       "    <tr>\n",
       "      <th>7</th>\n",
       "      <td>FRAMES/0/1538/frame0009.bmp</td>\n",
       "      <td>576</td>\n",
       "      <td>313</td>\n",
       "      <td>3</td>\n",
       "      <td>test</td>\n",
       "    </tr>\n",
       "    <tr>\n",
       "      <th>8</th>\n",
       "      <td>FRAMES/0/1538/frame0009.bmp</td>\n",
       "      <td>724</td>\n",
       "      <td>509</td>\n",
       "      <td>3</td>\n",
       "      <td>test</td>\n",
       "    </tr>\n",
       "    <tr>\n",
       "      <th>...</th>\n",
       "      <td>...</td>\n",
       "      <td>...</td>\n",
       "      <td>...</td>\n",
       "      <td>...</td>\n",
       "      <td>...</td>\n",
       "    </tr>\n",
       "    <tr>\n",
       "      <th>33565</th>\n",
       "      <td>FRAMES/2023.10.25/5_882.bmp</td>\n",
       "      <td>251</td>\n",
       "      <td>449</td>\n",
       "      <td>1</td>\n",
       "      <td>test</td>\n",
       "    </tr>\n",
       "    <tr>\n",
       "      <th>33569</th>\n",
       "      <td>FRAMES/2023.10.25/5_896.bmp</td>\n",
       "      <td>745</td>\n",
       "      <td>100</td>\n",
       "      <td>1</td>\n",
       "      <td>train</td>\n",
       "    </tr>\n",
       "    <tr>\n",
       "      <th>33570</th>\n",
       "      <td>FRAMES/2023.10.25/5_896.bmp</td>\n",
       "      <td>750</td>\n",
       "      <td>395</td>\n",
       "      <td>1</td>\n",
       "      <td>train</td>\n",
       "    </tr>\n",
       "    <tr>\n",
       "      <th>33571</th>\n",
       "      <td>FRAMES/2023.10.25/5_896.bmp</td>\n",
       "      <td>128</td>\n",
       "      <td>105</td>\n",
       "      <td>1</td>\n",
       "      <td>train</td>\n",
       "    </tr>\n",
       "    <tr>\n",
       "      <th>33572</th>\n",
       "      <td>FRAMES/2023.10.25/5_896.bmp</td>\n",
       "      <td>121</td>\n",
       "      <td>418</td>\n",
       "      <td>1</td>\n",
       "      <td>train</td>\n",
       "    </tr>\n",
       "  </tbody>\n",
       "</table>\n",
       "<p>9605 rows × 5 columns</p>\n",
       "</div>"
      ],
      "text/plain": [
       "                          filename    x    y  class  stage\n",
       "0      FRAMES/0/1538/frame0006.bmp  809  336      3  train\n",
       "2      FRAMES/0/1538/frame0007.bmp  667  318      3  train\n",
       "3      FRAMES/0/1538/frame0007.bmp  811  523      3  train\n",
       "7      FRAMES/0/1538/frame0009.bmp  576  313      3   test\n",
       "8      FRAMES/0/1538/frame0009.bmp  724  509      3   test\n",
       "...                            ...  ...  ...    ...    ...\n",
       "33565  FRAMES/2023.10.25/5_882.bmp  251  449      1   test\n",
       "33569  FRAMES/2023.10.25/5_896.bmp  745  100      1  train\n",
       "33570  FRAMES/2023.10.25/5_896.bmp  750  395      1  train\n",
       "33571  FRAMES/2023.10.25/5_896.bmp  128  105      1  train\n",
       "33572  FRAMES/2023.10.25/5_896.bmp  121  418      1  train\n",
       "\n",
       "[9605 rows x 5 columns]"
      ]
     },
     "execution_count": 110,
     "metadata": {},
     "output_type": "execute_result"
    }
   ],
   "source": [
    "df_cleared['stage'] = df_cleared['filename'].apply(lambda x: 'train' if x in path_train else 'test')\n",
    "df_cleared"
   ]
  },
  {
   "cell_type": "code",
   "execution_count": 113,
   "id": "76a4b907",
   "metadata": {},
   "outputs": [
    {
     "data": {
      "image/png": "[encoded data removed]",
      "text/plain": [
       "<Figure size 720x432 with 1 Axes>"
      ]
     },
     "metadata": {
      "needs_background": "light"
     },
     "output_type": "display_data"
    }
   ],
   "source": [
    "plt.figure(figsize=(10, 6))\n",
    "\n",
    "plt.xlabel('ID дефекта', fontsize=12)\n",
    "plt.ylabel('Количество дефектов', fontsize=12)\n",
    "plt.hist(df_cleared[df_cleared['stage'] == 'train']['class'], 45, facecolor='g')\n",
    "plt.grid(True)\n",
    "plt.show()"
   ]
  },
  {
   "cell_type": "code",
   "execution_count": 114,
   "id": "4b28ed97",
   "metadata": {},
   "outputs": [
    {
     "data": {
      "image/png": "[encoded data removed]",
      "text/plain": [
       "<Figure size 720x432 with 1 Axes>"
      ]
     },
     "metadata": {
      "needs_background": "light"
     },
     "output_type": "display_data"
    }
   ],
   "source": [
    "plt.figure(figsize=(10, 6))\n",
    "\n",
    "plt.xlabel('ID дефекта', fontsize=12)\n",
    "plt.ylabel('Количество дефектов', fontsize=12)\n",
    "plt.hist(df_cleared[df_cleared['stage'] == 'test']['class'], 45, facecolor='g')\n",
    "plt.grid(True)\n",
    "plt.show()"
   ]
  },
  {
   "cell_type": "code",
   "execution_count": 115,
   "id": "d3bcd86b",
   "metadata": {
    "scrolled": false
   },
   "outputs": [
    {
     "data": {
      "text/plain": [
       "0"
      ]
     },
     "execution_count": 115,
     "metadata": {},
     "output_type": "execute_result"
    }
   ],
   "source": [
    "set(path_train).intersection(path_test).__len__()"
   ]
  },
  {
   "cell_type": "code",
   "execution_count": 117,
   "id": "238f598a",
   "metadata": {},
   "outputs": [],
   "source": [
    "df_cleared.to_csv(os.path.join(DATASET_ROOT, 'filtered_data.csv'))"
   ]
  },
  {
   "cell_type": "code",
   "execution_count": null,
   "id": "f45ab224",
   "metadata": {},
   "outputs": [],
   "source": []
  },
  {
   "cell_type": "code",
   "execution_count": null,
   "id": "c28dc913",
   "metadata": {},
   "outputs": [],
   "source": []
  },
  {
   "cell_type": "code",
   "execution_count": null,
   "id": "0cef3f48",
   "metadata": {},
   "outputs": [],
   "source": []
  },
  {
   "cell_type": "code",
   "execution_count": null,
   "id": "54ef8df9",
   "metadata": {},
   "outputs": [],
   "source": []
  },
  {
   "cell_type": "code",
   "execution_count": null,
   "id": "9f06c8ab",
   "metadata": {},
   "outputs": [],
   "source": []
  },
  {
   "cell_type": "code",
   "execution_count": null,
   "id": "0eaa9fe7",
   "metadata": {},
   "outputs": [],
   "source": []
  },
  {
   "cell_type": "code",
   "execution_count": null,
   "id": "71332f6d",
   "metadata": {},
   "outputs": [],
   "source": []
  }
 ],
 "metadata": {
  "kernelspec": {
   "display_name": "Python 3 (ipykernel)",
   "language": "python",
   "name": "python3"
  },
  "language_info": {
   "codemirror_mode": {
    "name": "ipython",
    "version": 3
   },
   "file_extension": ".py",
   "mimetype": "text/x-python",
   "name": "python",
   "nbconvert_exporter": "python",
   "pygments_lexer": "ipython3",
   "version": "3.8.10"
  }
 },
 "nbformat": 4,
 "nbformat_minor": 5
}
