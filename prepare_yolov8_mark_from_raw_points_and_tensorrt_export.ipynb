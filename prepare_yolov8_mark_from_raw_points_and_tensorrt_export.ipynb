{
 "cells": [
  {
   "cell_type": "code",
   "execution_count": null,
   "id": "1fe88d29",
   "metadata": {},
   "outputs": [],
   "source": [
    "from ultralytics import YOLO\n",
    "import pandas as pd\n",
    "import os\n",
    "import cv2\n",
    "from tqdm import tqdm\n",
    "import shutil\n",
    "import numpy as np\n",
    "import matplotlib.pyplot as plt"
   ]
  },
  {
   "cell_type": "code",
   "execution_count": null,
   "id": "afe83729",
   "metadata": {},
   "outputs": [],
   "source": [
    "ANN_PATH = '/home/raid_storage/datasets/rosatom/full_dataset.csv'\n",
    "FILTERED_DATASET = '/home/raid_storage/datasets/rosatom/filtered_dataset.csv'\n",
    "DATASET_PATH = '/home/raid_storage/datasets/rosatom/'"
   ]
  },
  {
   "cell_type": "code",
   "execution_count": null,
   "id": "471300a0",
   "metadata": {},
   "outputs": [],
   "source": [
    "bbox_reg = 40"
   ]
  },
  {
   "cell_type": "code",
   "execution_count": null,
   "id": "5fff3ed3",
   "metadata": {},
   "outputs": [],
   "source": [
    "df = pd.read_csv(FILTERED_DATASET).drop(['Unnamed: 0'], axis=1)\n",
    "df = df[df['class'] != 0]\n",
    "df"
   ]
  },
  {
   "cell_type": "code",
   "execution_count": null,
   "id": "0d85d7cf",
   "metadata": {},
   "outputs": [],
   "source": [
    "h, w = 600, 960"
   ]
  },
  {
   "cell_type": "code",
   "execution_count": null,
   "id": "9870e966",
   "metadata": {},
   "outputs": [],
   "source": [
    "df['x_center'] = df.apply(lambda row: f'{round(int(row.x)/w, 5)}', axis=1)\n",
    "df['y_center'] = df.apply(lambda row: f'{round(int(row.y)/h, 5)}', axis=1)\n",
    "df['width'] = df.apply(lambda row: f'{round(2*bbox_reg/w, 5)}', axis=1)\n",
    "df['height'] = df.apply(lambda row: f'{round(2*bbox_reg/h, 5)}', axis=1)\n",
    "df['class'] = df.apply(lambda row: f'{int(row[\"class\"])-1}', axis=1)"
   ]
  },
  {
   "cell_type": "code",
   "execution_count": null,
   "id": "f0518b86",
   "metadata": {},
   "outputs": [],
   "source": [
    "dict_class = {0: 'не дефект',\n",
    "              1: 'потертость',\n",
    "              2: 'черная точка',\n",
    "              3: 'плена',\n",
    "              4: 'маркер',\n",
    "              5: 'грязь',\n",
    "              6: 'накол',\n",
    "              7: 'н.д. накол',\n",
    "              8: 'микровыступ',\n",
    "              9: 'н.д. микровыступ',\n",
    "              10: 'вмятина',\n",
    "              11: 'мех.повреждение',\n",
    "              12: 'риска',\n",
    "              13: 'царапина с волчком'}"
   ]
  },
  {
   "cell_type": "code",
   "execution_count": null,
   "id": "faf69778",
   "metadata": {},
   "outputs": [],
   "source": [
    "for index, row in df.iterrows():\n",
    "    stage = row['stage']\n",
    "    if stage == 'train':\n",
    "        dataset_yolo = '/home/raid_storage/isakov/hacks/notebooks/datasets/train/'\n",
    "    else:\n",
    "        dataset_yolo = '/home/raid_storage/isakov/hacks/notebooks/datasets/val/'\n",
    "        \n",
    "    filename = row.filename\n",
    "    ann_filename = '_'.join(filename.split('/')[1:]).replace('bmp', 'txt')\n",
    "    img_filename = '_'.join(filename.split('/')[1:])\n",
    "    x_center = row['x_center']\n",
    "    y_center = row['y_center']\n",
    "    width = row['width']\n",
    "    height = row['height']\n",
    "    cls = row['class']\n",
    "\n",
    "    with open(os.path.join(dataset_yolo, 'labels', ann_filename), 'a', encoding='utf-8') as ann_file:\n",
    "        ann_file.write(f'{cls} {x_center} {y_center} {width} {height}\\n')\n",
    "    \n",
    "    shutil.copy(os.path.join(DATASET_PATH, filename), os.path.join(dataset_yolo, 'images', img_filename))"
   ]
  },
  {
   "cell_type": "code",
   "execution_count": null,
   "id": "14804cab",
   "metadata": {},
   "outputs": [],
   "source": [
    "def plot_bounding_box(image_name):\n",
    "    class_id_to_name = dict_class\n",
    "\n",
    "    ann_name = image_name.replace('bmp', 'txt')\n",
    "    ann_path = os.path.join(dataset_yolo, 'labels', ann_name)\n",
    "\n",
    "    image_path = os.path.join(dataset_yolo, 'images', image_name)\n",
    "    image = cv2.cvtColor(cv2.imread(image_path), cv2.COLOR_BGR2RGB)\n",
    "    h, w = image.shape[:2]\n",
    "    print(h, w)\n",
    "\n",
    "    with open(ann_path, 'r', encoding='utf-8') as ann:\n",
    "        annotation_list = ann.read().split(\"\\n\")[:-1]\n",
    "        annotation_list = [x.split(\" \") for x in annotation_list]\n",
    "        annotation_list = [[float(y) for y in x ] for x in annotation_list]\n",
    "\n",
    "    annotations = np.array(annotation_list)\n",
    "    transformed_annotations = np.copy(annotation_list)\n",
    "    transformed_annotations[:,[1,3]] = annotations[:,[1,3]] * w\n",
    "    transformed_annotations[:,[2,4]] = annotations[:,[2,4]] * h \n",
    "\n",
    "    transformed_annotations[:,1] = transformed_annotations[:,1] - (transformed_annotations[:,3] / 2)\n",
    "    transformed_annotations[:,2] = transformed_annotations[:,2] - (transformed_annotations[:,4] / 2)\n",
    "    transformed_annotations[:,3] = transformed_annotations[:,1] + transformed_annotations[:,3]\n",
    "    transformed_annotations[:,4] = transformed_annotations[:,2] + transformed_annotations[:,4]\n",
    "    \n",
    "    for ann in transformed_annotations:\n",
    "        obj_cls, x1, y1, x2, y2 = ann.astype(int)\n",
    "        image = cv2.rectangle(image, (x1, y1), (x2, y2), (255, 0, 0), 3)\n",
    "\n",
    "    plt.figure(figsize=(16, 8))\n",
    "    plt.imshow(image)\n",
    "    plt.show()"
   ]
  },
  {
   "cell_type": "code",
   "execution_count": null,
   "id": "42201846",
   "metadata": {},
   "outputs": [],
   "source": [
    "plot_bounding_box('0_1538_frame0010.bmp')"
   ]
  },
  {
   "cell_type": "code",
   "execution_count": null,
   "id": "714f3c4b",
   "metadata": {},
   "outputs": [],
   "source": [
    "model = YOLO('yolov8m.yaml')  # build a new model from YAML\n",
    "results = model.train(data='data.yaml', epochs=100, imgsz=960, device=[3], batch=24)"
   ]
  },
  {
   "cell_type": "code",
   "execution_count": null,
   "id": "76f1ef50",
   "metadata": {},
   "outputs": [],
   "source": [
    "model.export(format='engine', half=True, device=0)"
   ]
  },
  {
   "cell_type": "code",
   "execution_count": null,
   "id": "988a6251",
   "metadata": {},
   "outputs": [],
   "source": []
  }
 ],
 "metadata": {
  "kernelspec": {
   "display_name": "Python 3 (ipykernel)",
   "language": "python",
   "name": "python3"
  },
  "language_info": {
   "codemirror_mode": {
    "name": "ipython",
    "version": 3
   },
   "file_extension": ".py",
   "mimetype": "text/x-python",
   "name": "python",
   "nbconvert_exporter": "python",
   "pygments_lexer": "ipython3",
   "version": "3.10.9"
  }
 },
 "nbformat": 4,
 "nbformat_minor": 5
}
